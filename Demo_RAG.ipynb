{
 "cells": [
  {
   "cell_type": "markdown",
   "id": "83bdb3a0-cc3e-4d50-84db-1fa7099ce8c6",
   "metadata": {},
   "source": [
    "### In this notebook we show how to build a conversational RAG system using OCI GenAI service, OCI OpenSearch service and LangChain framework. "
   ]
  },
  {
   "cell_type": "markdown",
   "id": "e9b8d68a-55dc-4167-a47a-155b2cb12472",
   "metadata": {},
   "source": [
    "# Import packages & Libs"
   ]
  },
  {
   "cell_type": "code",
   "execution_count": 35,
   "id": "34e02b9e-8499-4493-b1fd-cf93367358a7",
   "metadata": {},
   "outputs": [],
   "source": [
    "import os\n",
    "from typing import Any, Iterator, List\n",
    "from tqdm import tqdm\n",
    "\n",
    "from langchain.text_splitter import CharacterTextSplitter, RecursiveCharacterTextSplitter\n",
    "from langchain_community.document_loaders import PyPDFLoader, TextLoader\n",
    "from langchain_community.embeddings import OCIGenAIEmbeddings\n",
    "from langchain_community.vectorstores import OpenSearchVectorSearch\n",
    "from langchain_community.docstore.document import Document\n",
    "from langchain_community.chat_models.oci_generative_ai import ChatOCIGenAI\n",
    "\n",
    "from langchain.memory import ConversationBufferWindowMemory\n",
    "from langchain_core.prompts import PromptTemplate\n",
    "from langchain_community.llms.oci_generative_ai import OCIGenAI\n",
    "from langchain.chains import ConversationalRetrievalChain"
   ]
  },
  {
   "cell_type": "markdown",
   "id": "2f1ebdd1-7398-4b46-8652-2ca4f2ea17d2",
   "metadata": {
    "tags": []
   },
   "source": [
    "# Setup"
   ]
  },
  {
   "cell_type": "code",
   "execution_count": 36,
   "id": "f230d51a-b1e4-4b73-8691-10711be0c1eb",
   "metadata": {},
   "outputs": [],
   "source": [
    "# Put your compartment id\n",
    "compartment_id = \"Your compartment_id\"\n",
    "# service endpoint\n",
    "endpoint = \"https://inference.generativeai.us-chicago-1.oci.oraclecloud.com\"\n",
    "# model_id for embedding \n",
    "model_id_embedding =\"cohere.embed-english-v3.0\"\n",
    "# model_id for generation\n",
    "model_id_generation = \"cohere.command-r-plus\" \n",
    "\n",
    "# Put your OCI opensearch_url\n",
    "opensearch_url=\"Your opensearch_url\"\n",
    "\n",
    "# Setup OpenSearch Username & Password and put them below.  \n",
    "OPENSEAECH_USERNAME=\"Your OPENSEAECH_USERNAME=\"\n",
    "OPENSEAECH_PASSWORD=\" your OPENSEAECH_PASSWORD\"\n",
    "\n",
    "auth = (OPENSEAECH_USERNAME, OPENSEAECH_PASSWORD)"
   ]
  },
  {
   "cell_type": "markdown",
   "id": "cbd13266-3e7a-46a2-8499-3ffd031ada92",
   "metadata": {},
   "source": [
    "# OCI Embedding and Chat LLM"
   ]
  },
  {
   "cell_type": "code",
   "execution_count": 52,
   "id": "9bcba96d-0cdb-4242-b88c-9272989fe8f0",
   "metadata": {},
   "outputs": [],
   "source": [
    "# OCI GenAI Embedding \n",
    "embeddings = OCIGenAIEmbeddings(\n",
    "    model_id=model_id_embedding,\n",
    "    service_endpoint=endpoint,\n",
    "    compartment_id=compartment_id,\n",
    "    model_kwargs={\"input_type\": \"SEARCH_DOCUMENT\"}\n",
    ")\n",
    "\n",
    "# OCI GenAI Chat LLM \n",
    "llm_model = ChatOCIGenAI(\n",
    "            model_id=model_id_generation, \n",
    "            service_endpoint=endpoint,\n",
    "            compartment_id=compartment_id,\n",
    "            model_kwargs={\"temperature\": 0, \"max_tokens\": 500, 'top_p': 1.0},\n",
    "            is_stream=False)"
   ]
  },
  {
   "cell_type": "markdown",
   "id": "52c4542e-2baa-4fa2-900e-5a86d94774af",
   "metadata": {},
   "source": [
    "# OCI OpenSearch as Vector Store"
   ]
  },
  {
   "cell_type": "code",
   "execution_count": 40,
   "id": "dd50aa18-5e78-441f-8bcc-6aeabfbaa87e",
   "metadata": {},
   "outputs": [],
   "source": [
    "# Connect to OpenSearch\n",
    "db = OpenSearchVectorSearch(opensearch_url=opensearch_url, \n",
    "                            index_name=\"\", \n",
    "                            embedding_function=embeddings, \n",
    "                            http_auth=auth)"
   ]
  },
  {
   "cell_type": "markdown",
   "id": "d6299560-1ea3-4e57-bbc3-9a6621888615",
   "metadata": {},
   "source": [
    "# Data processing: loading & chunking  "
   ]
  },
  {
   "cell_type": "code",
   "execution_count": 41,
   "id": "1bd46b5a-74ef-48cf-a218-df2c1e99cf2d",
   "metadata": {},
   "outputs": [],
   "source": [
    "# Loading PDF locally from pdf_url directory\n",
    "def load_pdf_from_directory(pdf_url):\n",
    "    pdf_docs = []\n",
    "    print(\"Loading PDFs...\")\n",
    "    for file in tqdm(os.listdir(pdf_url)):\n",
    "        if file.endswith('.pdf'):\n",
    "            pdf_file_path = pdf_url + file\n",
    "            print(\"document name:\", str(file))\n",
    "            try:\n",
    "                loader = PyPDFLoader(pdf_file_path)\n",
    "                pdf_docs.extend(loader.load_and_split())\n",
    "            except Exception as e:\n",
    "                print(e)\n",
    "    return pdf_docs"
   ]
  },
  {
   "cell_type": "code",
   "execution_count": 42,
   "id": "209c72cf-7515-4417-9b58-93bb14509d8e",
   "metadata": {},
   "outputs": [],
   "source": [
    "# method to split and chunk\n",
    "def doc_splitter(docs: List[Document], chunk_size: int, chunk_overlap: int) -> List[Document]:\n",
    "    text_splitter = RecursiveCharacterTextSplitter(chunk_size=chunk_size, chunk_overlap=chunk_overlap)\n",
    "    print(\"chunk_size:\",chunk_size,\", chunk_overlap:\",chunk_overlap)\n",
    "    texts = text_splitter.split_documents(docs)\n",
    "    return texts"
   ]
  },
  {
   "cell_type": "code",
   "execution_count": 43,
   "id": "3edf35b1-0613-4cd2-b637-d709b48b45a3",
   "metadata": {},
   "outputs": [],
   "source": [
    "## method to store vectors in db\n",
    "def store_vectors(pages, my_index_name):\n",
    "    total_chunks = 0\n",
    "    if len(pages) > 95:\n",
    "        page_chunks = round(len(pages)/95)\n",
    "    else:\n",
    "         page_chunks = 1\n",
    "\n",
    "    # logic to handle OCIGenAIEmbeddings 95 docs to embed at a time,  a limit enforced by OCI GenAI\n",
    "    for page_chunk in range(page_chunks):\n",
    "        selected_pages = pages[page_chunk*95:(page_chunk+1)*95]\n",
    "        total_chunks+=len(selected_pages)\n",
    "        docs = [doc.page_content for doc in selected_pages]\n",
    "        \n",
    "        db.add_texts(texts=docs, \n",
    "                     embedding=embeddings, \n",
    "                     opensearch_url=opensearch_url, \n",
    "                     index_name=my_index_name, \n",
    "                     http_auth=auth)\n",
    "\n",
    "    db.client.indices.refresh(index=my_index_name)\n",
    "    \n",
    "    print('my index name:', my_index_name)\n",
    "    print('Vector DB created and stored Successfully.')\n",
    "    print(\"Total Number of chunks created:\", total_chunks)"
   ]
  },
  {
   "cell_type": "markdown",
   "id": "28c83dea-cba3-4d3f-8d8e-5d64b6bca5a8",
   "metadata": {},
   "source": [
    "# Store the chunks into DB"
   ]
  },
  {
   "cell_type": "code",
   "execution_count": 44,
   "id": "37e78fa4-d8ac-41a6-87fd-b098151c9f8f",
   "metadata": {},
   "outputs": [],
   "source": [
    "# Main function\n",
    "def main_split_store(pdf_dir_path: str, chunk_size: int, chunk_overlap: int, my_index_name:str):\n",
    "\n",
    "\n",
    "    pdf_docs = load_pdf_from_directory(pdf_dir_path)\n",
    "    print(f\"Number of pdf pages are {len(pdf_docs)}\")\n",
    "\n",
    "    # parse and chunk pdf pages\n",
    "    pdf_splitted_chunks = doc_splitter(pdf_docs, chunk_size, chunk_overlap)\n",
    "\n",
    "    # Creating and storing vector DB\n",
    "    store_vectors(pdf_splitted_chunks, my_index_name)"
   ]
  },
  {
   "cell_type": "markdown",
   "id": "f4ff8fc7-c50b-4c01-80c2-3c85cea5ca13",
   "metadata": {},
   "source": [
    "## Run with chunk size and chunk overlap"
   ]
  },
  {
   "cell_type": "code",
   "execution_count": 45,
   "id": "dd280913-b866-4cbe-9796-d91113f95a49",
   "metadata": {
    "tags": []
   },
   "outputs": [
    {
     "name": "stdout",
     "output_type": "stream",
     "text": [
      "Loading PDFs...\n"
     ]
    },
    {
     "name": "stderr",
     "output_type": "stream",
     "text": [
      "  0%|          | 0/2 [00:00<?, ?it/s]"
     ]
    },
    {
     "name": "stdout",
     "output_type": "stream",
     "text": [
      "document name: Developing AI applications with OCI Generative AI and LangChain.pdf\n"
     ]
    },
    {
     "name": "stderr",
     "output_type": "stream",
     "text": [
      "100%|██████████| 2/2 [00:00<00:00,  2.27it/s]\n"
     ]
    },
    {
     "name": "stdout",
     "output_type": "stream",
     "text": [
      "Number of pdf pages are 81\n",
      "chunk_size: 1000 , chunk_overlap: 200\n",
      "my index name: index_1\n",
      "Vector DB created and stored Successfully.\n",
      "Total Number of chunks created: 240\n"
     ]
    }
   ],
   "source": [
    "pdf_dir_path = \"./data/\"\n",
    "chunk_size = 1000\n",
    "chunk_overlap = 200\n",
    "my_index_name = \"index_1\"\n",
    "main_split_store(pdf_dir_path, chunk_size, chunk_overlap, my_index_name)"
   ]
  },
  {
   "cell_type": "markdown",
   "id": "0f4e5b18-4831-457d-8d39-78088f28e18b",
   "metadata": {},
   "source": [
    "# Add memory and retriever "
   ]
  },
  {
   "cell_type": "code",
   "execution_count": 46,
   "id": "94e4ea99-e022-434f-95f7-05daef30c748",
   "metadata": {},
   "outputs": [],
   "source": [
    "# Query Document\n",
    "db = OpenSearchVectorSearch(opensearch_url=opensearch_url, \n",
    "                            index_name=my_index_name, \n",
    "                            embedding_function=embeddings, \n",
    "                            http_auth=auth)\n",
    "# adding memory\n",
    "memory = ConversationBufferWindowMemory(memory_key=\"chat_history\", \n",
    "                                        k=3, \n",
    "                                        return_messages=True, \n",
    "                                        output_key='answer')\n",
    "\n",
    "retriever = db.as_retriever(search_kwargs={'k': 3}, \n",
    "                            search_type='similarity', \n",
    "                            chain_type=\"map-rerank\")"
   ]
  },
  {
   "cell_type": "markdown",
   "id": "3429bc4b-52ae-47a3-9154-b7da2b4e59f6",
   "metadata": {},
   "source": [
    "# Prompt for generation "
   ]
  },
  {
   "cell_type": "code",
   "execution_count": 47,
   "id": "bcad0524-4c69-48e4-903a-cfdfe36d0a39",
   "metadata": {},
   "outputs": [],
   "source": [
    "def get_prompt(num_words: int):\n",
    "    \"\"\"\n",
    "    This funtion creates prompt template for cohere and attaches placeholders for the values to be updated later\n",
    "\n",
    "    Returns:\n",
    "        string: Prompt template\n",
    "    \"\"\"\n",
    "\n",
    "    SYSTEM_PROMPT = \"\"\"You are a chatbot. Your task is to help answer queries using the below given context. \n",
    "    If there is anything that you cannot answer, or you think is inappropriate to answer, simply reply as, \n",
    "    \"Sorry, I cannot help you with that.\"\"\"\n",
    "    B_INST, E_INST = \"[INST]\", \"[/INST]\"\n",
    "    B_SYS, E_SYS = \"<<SYS>>\\n\", \"\\n<</SYS>>\\n\\n\"\n",
    "\n",
    "    SYSTEM_PROMPT_template = B_SYS + SYSTEM_PROMPT + E_SYS\n",
    "\n",
    "\n",
    "    context_instruction_template = \"CHAT HISTORY: {chat_history}\\n----------\\nCONTEXT: {context}\\n----------\\n\\nInstructions:1. Answer only from the given context.\\n             2: Do not generate any new content out of this context.\\n             3: Your answer should not include any harmful, unethical, violent, racist, sexist, pornographic, toxic, discriminatory, blasphemous, dangerous, or illegal content.\\n             4: Please ensure that your responses are socially unbiased and positive in nature.\\n             5: Ensure length of the answer is within \" + str(num_words) +\" words.\\n\\nNow, Answer the following question: {question}\\n\"\n",
    "    prompt_template =  '<s>'+B_INST + SYSTEM_PROMPT_template + context_instruction_template + E_INST\n",
    "\n",
    "    return prompt_template"
   ]
  },
  {
   "cell_type": "code",
   "execution_count": 49,
   "id": "1a88d361-8147-4908-bb05-203f55204c93",
   "metadata": {},
   "outputs": [
    {
     "name": "stdout",
     "output_type": "stream",
     "text": [
      "<s>[INST]<<SYS>>\n",
      "You are a chatbot. Your task is to help answer queries using the below given context. \n",
      "    If there is anything that you cannot answer, or you think is inappropriate to answer, simply reply as, \n",
      "    \"Sorry, I cannot help you with that.\n",
      "<</SYS>>\n",
      "\n",
      "CHAT HISTORY: {chat_history}\n",
      "----------\n",
      "CONTEXT: {context}\n",
      "----------\n",
      "\n",
      "Instructions:1. Answer only from the given context.\n",
      "             2: Do not generate any new content out of this context.\n",
      "             3: Your answer should not include any harmful, unethical, violent, racist, sexist, pornographic, toxic, discriminatory, blasphemous, dangerous, or illegal content.\n",
      "             4: Please ensure that your responses are socially unbiased and positive in nature.\n",
      "             5: Ensure length of the answer is within 300 words.\n",
      "\n",
      "Now, Answer the following question: {question}\n",
      "[/INST]\n"
     ]
    }
   ],
   "source": [
    "prompt_template = get_prompt(300)\n",
    "print(prompt_template)\n",
    "prompt = PromptTemplate(template=prompt_template, input_variables=[\"context\", \"chat_history\",\"num_words\", \"question\"])"
   ]
  },
  {
   "cell_type": "markdown",
   "id": "9a4869e9-184a-4f73-9caa-d934436af0ee",
   "metadata": {},
   "source": [
    "# Conversational Retrieval Chain "
   ]
  },
  {
   "cell_type": "code",
   "execution_count": 50,
   "id": "46d992d3-9b91-477c-9655-95c9a49eaf86",
   "metadata": {},
   "outputs": [
    {
     "name": "stdout",
     "output_type": "stream",
     "text": [
      "\n",
      "\n",
      "\u001b[1m> Entering new StuffDocumentsChain chain...\u001b[0m\n",
      "\n",
      "\n",
      "\u001b[1m> Entering new LLMChain chain...\u001b[0m\n",
      "Prompt after formatting:\n",
      "\u001b[32;1m\u001b[1;3m<s>[INST]<<SYS>>\n",
      "You are a chatbot. Your task is to help answer queries using the below given context. \n",
      "    If there is anything that you cannot answer, or you think is inappropriate to answer, simply reply as, \n",
      "    \"Sorry, I cannot help you with that.\n",
      "<</SYS>>\n",
      "\n",
      "CHAT HISTORY: \n",
      "----------\n",
      "CONTEXT: 1\n",
      "Welcome to Oracle Cloud\n",
      "Oracle Cloud is the industry's broadest and most integrated cloud provider, with deployment\n",
      "options ranging from the public cloud to your data center. Oracle Cloud offers best-in-class\n",
      "services across Software as a Service (SaaS), Platform as a Service (PaaS), and\n",
      "Infrastructure as a Service (IaaS).\n",
      "Topics\n",
      "•About Oracle Cloud\n",
      "•Overview of Oracle Cloud Subscriptions\n",
      "•About Oracle Cloud Accounts\n",
      "•Oracle Cloud Terminology\n",
      "•How Do I Sign Up?\n",
      "•Contact Oracle Support\n",
      "About Oracle Cloud\n",
      "Oracle Cloud is one of the few cloud providers that can offer a complete set of cloud services\n",
      "to meet all your enterprise computing needs.\n",
      "Use Oracle Infrastructure as a Service (IaaS) offerings to quickly set up the virtual machines,\n",
      "storage, and networking capabilities you need to run just about any kind of workload. Your\n",
      "infrastructure is managed, hosted, and supported by Oracle.\n",
      "Use Oracle Platform as a Service offerings to provision ready-to-use environments for your\n",
      "\n",
      "1\n",
      "Welcome to Oracle Cloud\n",
      "Oracle Cloud is the industry's broadest and most integrated cloud provider, with deployment\n",
      "options ranging from the public cloud to your data center. Oracle Cloud offers best-in-class\n",
      "services across Software as a Service (SaaS), Platform as a Service (PaaS), and\n",
      "Infrastructure as a Service (IaaS).\n",
      "Topics\n",
      "•About Oracle Cloud\n",
      "•Overview of Oracle Cloud Subscriptions\n",
      "•About Oracle Cloud Accounts\n",
      "•Oracle Cloud Terminology\n",
      "•How Do I Sign Up?\n",
      "•Contact Oracle Support\n",
      "About Oracle Cloud\n",
      "Oracle Cloud is one of the few cloud providers that can offer a complete set of cloud services\n",
      "to meet all your enterprise computing needs.\n",
      "Use Oracle Infrastructure as a Service (IaaS) offerings to quickly set up the virtual machines,\n",
      "storage, and networking capabilities you need to run just about any kind of workload. Your\n",
      "infrastructure is managed, hosted, and supported by Oracle.\n",
      "Use Oracle Platform as a Service offerings to provision ready-to-use environments for your\n",
      "\n",
      "1\n",
      "Welcome to Oracle Cloud\n",
      "Oracle Cloud is the industry's broadest and most integrated cloud provider, with deployment\n",
      "options ranging from the public cloud to your data center. Oracle Cloud offers best-in-class\n",
      "services across Software as a Service (SaaS), Platform as a Service (PaaS), and\n",
      "Infrastructure as a Service (IaaS).\n",
      "Topics\n",
      "•About Oracle Cloud\n",
      "•Overview of Oracle Cloud Subscriptions\n",
      "•About Oracle Cloud Accounts\n",
      "•Oracle Cloud Terminology\n",
      "•How Do I Sign Up?\n",
      "•Contact Oracle Support\n",
      "About Oracle Cloud\n",
      "Oracle Cloud is one of the few cloud providers that can offer a complete set of cloud services\n",
      "to meet all your enterprise computing needs.\n",
      "Use Oracle Infrastructure as a Service (IaaS) offerings to quickly set up the virtual machines,\n",
      "storage, and networking capabilities you need to run just about any kind of workload. Your\n",
      "infrastructure is managed, hosted, and supported by Oracle.\n",
      "Use Oracle Platform as a Service offerings to provision ready-to-use environments for your\n",
      "----------\n",
      "\n",
      "Instructions:1. Answer only from the given context.\n",
      "             2: Do not generate any new content out of this context.\n",
      "             3: Your answer should not include any harmful, unethical, violent, racist, sexist, pornographic, toxic, discriminatory, blasphemous, dangerous, or illegal content.\n",
      "             4: Please ensure that your responses are socially unbiased and positive in nature.\n",
      "             5: Ensure length of the answer is within 300 words.\n",
      "\n",
      "Now, Answer the following question: What is Oracle Cloud?\n",
      "[/INST]\u001b[0m\n",
      "\n",
      "\u001b[1m> Finished chain.\u001b[0m\n",
      "\n",
      "\u001b[1m> Finished chain.\u001b[0m\n",
      "Oracle Cloud is a cloud computing service offered by Oracle Corporation, which provides a wide range of cloud services to meet various enterprise computing needs. It is one of the few cloud providers that offer a complete set of cloud services, including Software as a Service (SaaS), Platform as a Service (PaaS), and Infrastructure as a Service (IaaS). \n",
      "\n",
      "With Oracle Cloud, you can quickly set up virtual machines, storage, and networking capabilities to run almost any kind of workload. Your infrastructure is managed, hosted, and supported by Oracle, ensuring that your enterprise computing needs are met efficiently and effectively. \n",
      "\n",
      "Oracle Cloud also offers ready-to-use environments and tools for developers, making it easier to build and deploy applications. It provides deployment options ranging from the public cloud to data centers, giving you flexibility in choosing the right option for your business.\n"
     ]
    }
   ],
   "source": [
    "qa_chain = ConversationalRetrievalChain.from_llm(llm=llm_model,\n",
    "                                                    retriever=retriever,\n",
    "                                                    memory=memory,\n",
    "                                                    combine_docs_chain_kwargs={\"prompt\": prompt},\n",
    "                                                    return_source_documents=True,\n",
    "                                                    verbose=True)\n",
    "response = qa_chain.invoke({\"question\": \"What is Oracle Cloud?\"})\n",
    "source_documents = response.get(\"source_documents\")\n",
    "print(response.get(\"answer\"))\n"
   ]
  },
  {
   "cell_type": "code",
   "execution_count": 33,
   "id": "e11d4340-8a75-4a3d-ab73-a5d24a7e3efe",
   "metadata": {},
   "outputs": [
    {
     "name": "stdout",
     "output_type": "stream",
     "text": [
      "[Document(page_content=\"1\\nWelcome to Oracle Cloud\\nOracle Cloud is the industry's broadest and most integrated cloud provider, with deployment\\noptions ranging from the public cloud to your data center. Oracle Cloud offers best-in-class\\nservices across Software as a Service (SaaS), Platform as a Service (PaaS), and\\nInfrastructure as a Service (IaaS).\\nTopics\\n•About Oracle Cloud\\n•Overview of Oracle Cloud Subscriptions\\n•About Oracle Cloud Accounts\\n•Oracle Cloud Terminology\\n•How Do I Sign Up?\\n•Contact Oracle Support\\nAbout Oracle Cloud\\nOracle Cloud is one of the few cloud providers that can offer a complete set of cloud services\\nto meet all your enterprise computing needs.\\nUse Oracle Infrastructure as a Service (IaaS) offerings to quickly set up the virtual machines,\\nstorage, and networking capabilities you need to run just about any kind of workload. Your\\ninfrastructure is managed, hosted, and supported by Oracle.\\nUse Oracle Platform as a Service offerings to provision ready-to-use environments for your\"), Document(page_content=\"1\\nWelcome to Oracle Cloud\\nOracle Cloud is the industry's broadest and most integrated cloud provider, with deployment\\noptions ranging from the public cloud to your data center. Oracle Cloud offers best-in-class\\nservices across Software as a Service (SaaS), Platform as a Service (PaaS), and\\nInfrastructure as a Service (IaaS).\\nTopics\\n•About Oracle Cloud\\n•Overview of Oracle Cloud Subscriptions\\n•About Oracle Cloud Accounts\\n•Oracle Cloud Terminology\\n•How Do I Sign Up?\\n•Contact Oracle Support\\nAbout Oracle Cloud\\nOracle Cloud is one of the few cloud providers that can offer a complete set of cloud services\\nto meet all your enterprise computing needs.\\nUse Oracle Infrastructure as a Service (IaaS) offerings to quickly set up the virtual machines,\\nstorage, and networking capabilities you need to run just about any kind of workload. Your\\ninfrastructure is managed, hosted, and supported by Oracle.\\nUse Oracle Platform as a Service offerings to provision ready-to-use environments for your\"), Document(page_content=\"1\\nWelcome to Oracle Cloud\\nOracle Cloud is the industry's broadest and most integrated cloud provider, with deployment\\noptions ranging from the public cloud to your data center. Oracle Cloud offers best-in-class\\nservices across Software as a Service (SaaS), Platform as a Service (PaaS), and\\nInfrastructure as a Service (IaaS).\\nTopics\\n•About Oracle Cloud\\n•Overview of Oracle Cloud Subscriptions\\n•About Oracle Cloud Accounts\\n•Oracle Cloud Terminology\\n•How Do I Sign Up?\\n•Contact Oracle Support\\nAbout Oracle Cloud\\nOracle Cloud is one of the few cloud providers that can offer a complete set of cloud services\\nto meet all your enterprise computing needs.\\nUse Oracle Infrastructure as a Service (IaaS) offerings to quickly set up the virtual machines,\\nstorage, and networking capabilities you need to run just about any kind of workload. Your\\ninfrastructure is managed, hosted, and supported by Oracle.\\nUse Oracle Platform as a Service offerings to provision ready-to-use environments for your\")]\n"
     ]
    }
   ],
   "source": [
    "print(source_documents)"
   ]
  },
  {
   "cell_type": "code",
   "execution_count": 51,
   "id": "80b816d2-1705-40f0-be62-1ed5622974e4",
   "metadata": {},
   "outputs": [
    {
     "name": "stdout",
     "output_type": "stream",
     "text": [
      "Oracle Cloud is a cloud computing service offered by Oracle Corporation, which provides a wide range of cloud services to meet various enterprise computing needs. It is one of the few cloud providers that offer a complete set of cloud services, including Software as a Service (SaaS), Platform as a Service (PaaS), and Infrastructure as a Service (IaaS). \n",
      "\n",
      "With Oracle Cloud, you can quickly set up virtual machines, storage, and networking capabilities to run almost any kind of workload. Your infrastructure is managed, hosted, and supported by Oracle, ensuring that your enterprise computing needs are met efficiently and effectively. \n",
      "\n",
      "Oracle Cloud also offers ready-to-use environments and tools for developers, making it easier to build and deploy applications. It provides deployment options ranging from the public cloud to data centers, giving you flexibility in choosing the right option for your business.\n"
     ]
    }
   ],
   "source": [
    "print(response.get(\"answer\"))"
   ]
  },
  {
   "cell_type": "markdown",
   "id": "e598d086-71b8-4fce-aa24-960272266232",
   "metadata": {},
   "source": [
    "- ## Now is your turn to do the following experimentations using the above codes: \n",
    "    - ### Change `chunk_size`, `chunk_overlap` in `main_split_store` and re-run the experiment \n",
    "    - ### Change the value of `search_kwargs` (k) in `retriever` and re-run the experiment "
   ]
  }
 ],
 "metadata": {
  "kernelspec": {
   "display_name": "Python 3 (ipykernel)",
   "language": "python",
   "name": "python3"
  },
  "language_info": {
   "codemirror_mode": {
    "name": "ipython",
    "version": 3
   },
   "file_extension": ".py",
   "mimetype": "text/x-python",
   "name": "python",
   "nbconvert_exporter": "python",
   "pygments_lexer": "ipython3",
   "version": "3.9.18"
  }
 },
 "nbformat": 4,
 "nbformat_minor": 5
}
